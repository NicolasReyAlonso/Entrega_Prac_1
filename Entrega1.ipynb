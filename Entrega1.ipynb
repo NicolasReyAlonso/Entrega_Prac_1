{
 "cells": [
  {
   "cell_type": "markdown",
   "id": "cc773912",
   "metadata": {},
   "source": [
    "## Tarea 1\n",
    "### Tablero de ajedrez monocromo\n",
    "Para realizar esta tarea compruebo que la suma del resultado de dividir ambos punteros del bucle entre 20 que es el salto y así compruebo después que ambos ejes son pares"
   ]
  },
  {
   "cell_type": "code",
   "execution_count": 1,
   "id": "8ff2dd4c",
   "metadata": {},
   "outputs": [],
   "source": [
    "import numpy as np\n",
    "import matplotlib.pyplot as plt"
   ]
  },
  {
   "cell_type": "code",
   "execution_count": 2,
   "id": "c0634dc1",
   "metadata": {},
   "outputs": [
    {
     "data": {
      "image/png": "[encoded data removed]",
      "text/plain": [
       "<Figure size 640x480 with 1 Axes>"
      ]
     },
     "metadata": {},
     "output_type": "display_data"
    }
   ],
   "source": [
    "alto, ancho = 800, 800\n",
    "gris_img = np.zeros((alto,ancho,1), dtype = np.uint8)\n",
    "for y in range(0, 800, 20):\n",
    "    for x in range(0, 800, 20):\n",
    "        if (x//20 + y//20) % 2 == 0:\n",
    "            gris_img[y:y+20, x:x+20] = 255  # blanco\n",
    "\n",
    "plt.imshow(gris_img, cmap='gray') \n",
    "plt.show()"
   ]
  },
  {
   "cell_type": "markdown",
   "id": "a93f7b3e",
   "metadata": {},
   "source": [
    "### Tarea 2\n",
    "## Imagen tipo Mondrian\n",
    "\n",
    "Se crea una composición abstracta con bloques de colores primarios (rojo, azul, amarillo) y blanco, separados por líneas negras gruesas, siguiendo el estilo geométrico de Piet Mondrian."
   ]
  },
  {
   "cell_type": "code",
   "execution_count": null,
   "id": "1b8435ab",
   "metadata": {},
   "outputs": [],
   "source": [
    "import cv2  \n",
    "import matplotlib.pyplot as plt\n",
    "import numpy as np"
   ]
  },
  {
   "cell_type": "code",
   "execution_count": 6,
   "id": "c6a89029",
   "metadata": {},
   "outputs": [
    {
     "ename": "NameError",
     "evalue": "name 'alto' is not defined",
     "output_type": "error",
     "traceback": [
      "\u001b[31m---------------------------------------------------------------------------\u001b[39m",
      "\u001b[31mNameError\u001b[39m                                 Traceback (most recent call last)",
      "\u001b[36mCell\u001b[39m\u001b[36m \u001b[39m\u001b[32mIn[6]\u001b[39m\u001b[32m, line 1\u001b[39m\n\u001b[32m----> \u001b[39m\u001b[32m1\u001b[39m color_img=np.zeros((\u001b[43malto\u001b[49m,ancho,\u001b[32m3\u001b[39m),dtype=np.uint8)\n\u001b[32m      3\u001b[39m cv2.rectangle(color_img,(\u001b[32m5\u001b[39m,\u001b[32m5\u001b[39m),(ancho-\u001b[32m2\u001b[39m,\u001b[38;5;28mint\u001b[39m(alto/\u001b[32m4\u001b[39m)),(\u001b[32m255\u001b[39m,\u001b[32m255\u001b[39m,\u001b[32m255\u001b[39m),-\u001b[32m1\u001b[39m)\n\u001b[32m      4\u001b[39m cv2.rectangle(color_img,(\u001b[32m5\u001b[39m,\u001b[32m5\u001b[39m),(ancho-\u001b[32m2\u001b[39m,\u001b[38;5;28mint\u001b[39m(alto/\u001b[32m4\u001b[39m)),(\u001b[32m0\u001b[39m,\u001b[32m0\u001b[39m,\u001b[32m0\u001b[39m),\u001b[32m5\u001b[39m)\n",
      "\u001b[31mNameError\u001b[39m: name 'alto' is not defined"
     ]
    }
   ],
   "source": [
    "color_img=np.zeros((alto,ancho,3),dtype=np.uint8)\n",
    "\n",
    "cv2.rectangle(color_img,(5,5),(ancho-2,int(alto/4)),(255,255,255),-1)\n",
    "cv2.rectangle(color_img,(5,5),(ancho-2,int(alto/4)),(0,0,0),5)\n",
    "\n",
    "cv2.rectangle(color_img,(0,200),(300,300),(255,0,0),-1)\n",
    "cv2.rectangle(color_img,(0,  200),(300 ,300),(0,0,0),5)\n",
    "\n",
    "cv2.rectangle(color_img,(0,200),(300,300),(255,0,0),-1)\n",
    "cv2.rectangle(color_img,(0,200),(300, 300),(0,0,0), 5)\n",
    "\n",
    "cv2.rectangle(color_img,(320, 220),(600  ,350),(255,255,0), -1)\n",
    "cv2.rectangle(color_img,(320,220),(600,350),(0,0,0),5)\n",
    "\n",
    "cv2.rectangle(color_img,(620,100),(780, 300),(0,0,255),-1)\n",
    "cv2.rectangle(color_img,(620,100),(780,300),(0,0,0),5)\n",
    "\n",
    "cv2.line(color_img,(0 , 400),(ancho,400),(0,0,0),10)\n",
    "\n",
    "cv2.line(color_img,(400,0),(400 ,alto),(0,0,0),10)\n",
    "\n",
    "cv2.rectangle(color_img,(20, 420),(250,600),(255,255,255),-1)\n",
    "cv2.rectangle(color_img,(20,420),(250,600),(0,0,0),5)\n",
    "\n",
    "cv2.rectangle(color_img,(550,500),(780 ,750),(255,0,0),-1)\n",
    "cv2.rectangle(color_img,(550,500),(780,750),(0,0,0),5)\n",
    "\n",
    "cv2.rectangle(color_img,(300,600),(500,780),(0,0,255), -1)\n",
    "cv2.rectangle(color_img,(300,600),(500,780),(0,0,0),  5)\n",
    "\n",
    "cv2.rectangle(color_img,(50,50),(180,150),(255,255,0), -1)\n",
    "cv2.rectangle(color_img,(50,50),(180,150),(0,0,0), 5)\n",
    "\n",
    "cv2.line(color_img,(0,600),(ancho,600),(0,0,0), 10)\n",
    "\n",
    "cv2.line(color_img,(200,0),(200, alto),(0,0,0),10)\n",
    "\n",
    "plt.imshow(color_img)\n",
    "plt.show()\n"
   ]
  },
  {
   "cell_type": "markdown",
   "id": "8f55be6f",
   "metadata": {},
   "source": [
    "## Tarea 3\n",
    "### Modificar Libremente los valores de un plano de la imagen\n",
    "En esta tarea superpongo el logo de la ulpgc al la fuente de la camara mostrando el video a color y manteniendo el color que \"debería\" ser en el resto"
   ]
  },
  {
   "cell_type": "code",
   "execution_count": 1,
   "id": "50104ce2",
   "metadata": {},
   "outputs": [],
   "source": [
    "import cv2  \n",
    "import numpy as np"
   ]
  },
  {
   "cell_type": "code",
   "execution_count": 4,
   "id": "c4250c84",
   "metadata": {},
   "outputs": [],
   "source": [
    "vid = cv2.VideoCapture(0)\n",
    "img = cv2.imread('logo_ulpgc_vertical_acronimo_mancheta_azul.png')\n",
    "watermark = cv2.cvtColor(img, cv2.COLOR_BGR2GRAY)\n",
    "\n",
    "ret, frame = vid.read()\n",
    "h_frame, w_frame, c = frame.shape\n",
    "\n",
    "# Redimensionar watermark al tamaño del frame\n",
    "watermark_resized = cv2.resize(watermark, (w_frame, h_frame))\n",
    "_, mask = cv2.threshold(watermark_resized, 127, 255, cv2.THRESH_BINARY)\n",
    "mask_bool = mask.astype(bool)\n",
    "\n",
    "while True:\n",
    "    ret, frame = vid.read()\n",
    "    if not ret:\n",
    "        break\n",
    "\n",
    "    # Separar canales1\n",
    "    b, g, r = cv2.split(frame)\n",
    "\n",
    "    # Crear imágenes RGB por canal\n",
    "    r_color = np.zeros_like(frame)\n",
    "    r_color[:,:,2] = r\n",
    "    g_color = np.zeros_like(frame)\n",
    "    g_color[:,:,1] = g\n",
    "    b_color = np.zeros_like(frame)\n",
    "    b_color[:,:,0] = b\n",
    "\n",
    "    # Collage horizontal\n",
    "    collage_color = np.hstack((r_color, g_color, b_color))\n",
    "\n",
    "    # Expandir máscara y frame para coincidir con el collage\n",
    "    mask_expanded = np.hstack((mask_bool, mask_bool, mask_bool))\n",
    "    frame_expanded = np.hstack((frame, frame, frame))\n",
    "\n",
    "    # Aplicar máscara: donde es blanca, mostrar el vídeo a color\n",
    "    collage_color[mask_expanded] = frame_expanded[mask_expanded]\n",
    "\n",
    "    cv2.imshow('RGB', cv2.resize(collage_color, (int(w_frame*1.5), int(h_frame/2)), cv2.INTER_NEAREST))\n",
    "\n",
    "    if cv2.waitKey(20) & 0xFF == 27:\n",
    "        break\n",
    "\n",
    "vid.release()\n",
    "cv2.destroyAllWindows()\n"
   ]
  },
  {
   "cell_type": "markdown",
   "id": "9e41ac3a",
   "metadata": {},
   "source": [
    "## Tarea 4\n",
    "### Pintar círculos en los píxeles más claro y más oscuro\n",
    "Se captura una imagen desde la cámara y se analiza su intensidad luminosa. Se identifican el píxel más claro y el más oscuro, y se dibujan círculos sobre ellos para destacarlos visualmente."
   ]
  },
  {
   "cell_type": "code",
   "execution_count": 2,
   "id": "2750b54e",
   "metadata": {},
   "outputs": [],
   "source": [
    "import cv2\n",
    "import numpy as np"
   ]
  },
  {
   "cell_type": "code",
   "execution_count": 8,
   "id": "bc9195c3",
   "metadata": {},
   "outputs": [],
   "source": [
    "vid = cv2.VideoCapture(0)\n",
    "\n",
    "while True:\n",
    "    ret, frame = vid.read()\n",
    "    if ret:\n",
    "        alto, ancho = frame.shape[:2]\n",
    "\n",
    "        #Crear imagen en escala de grises\n",
    "        gris_img = np.zeros((alto, ancho, 1), dtype=np.uint8)\n",
    "\n",
    "        # Calcular intensidad manualmente usando fórmula deluminancia\n",
    "        gris_img[:,:,0] = (0.299 * frame[:,:,2] + 0.587 * frame[:,:,1] + 0.114 * frame[:,:,0]).astype(np.uint8)\n",
    "\n",
    "        # buscar píxel más claro y más oscuro\n",
    "        min_val, max_val, min_loc, max_loc = cv2.minMaxLoc(gris_img[:, :, 0])\n",
    "\n",
    "        # Dibujar circulos\n",
    "        cv2.circle(frame, min_loc, 10, (255,0,0), -1)     # Azul: más oscuro\n",
    "        cv2.circle(frame, max_loc, 10, (0,255, 255),-1)   # Amarillo: más claro\n",
    "        cv2.imshow('Cam', frame)\n",
    "\n",
    "    # Detenemos pulsado ESC\n",
    "    if cv2.waitKey(20) == 27:\n",
    "        break\n",
    "\n",
    "# Libera el objeto de captura\n",
    "vid.release()\n",
    "# Destruye ventanas\n",
    "cv2.destroyAllWindows()\n",
    "\n"
   ]
  },
  {
   "cell_type": "markdown",
   "id": "2e57d1a7",
   "metadata": {},
   "source": [
    "## Tarea 5\n",
    "### LLevar a cabo tarea de POP art \n",
    "Creo un callage con tres videos:\n",
    "1. Colores predominantes rojo y amarillo aplicando threshold.\n",
    "2. Colores predominantes azul y lila buscando el punto en comun entre el rojo y el verde y reorganizandolos.\n",
    "3. Colores predominantes verde y amarillo recolocando las capas de color.<\n",
    "\n",
    "\n",
    "Inspiración obtenida de los colores análogos de la gama cromática"
   ]
  },
  {
   "cell_type": "code",
   "execution_count": null,
   "id": "543b2762",
   "metadata": {},
   "outputs": [],
   "source": [
    "import cv2  \n",
    "import numpy as np"
   ]
  },
  {
   "cell_type": "code",
   "execution_count": 3,
   "id": "4fc255f2",
   "metadata": {},
   "outputs": [],
   "source": [
    "vid = cv2.VideoCapture(0)\n",
    "thresh_value_R = 100\n",
    "thresh_value_G = 150\n",
    "thresh_value_B = 200\n",
    "while True:\n",
    "    ret, frame = vid.read()\n",
    "    h_frame, w_frame, c = frame.shape\n",
    "    if not ret:\n",
    "        break\n",
    "    \n",
    "    _, vid1R = cv2.threshold(frame[:,:,2], thresh_value_R, 255, cv2.THRESH_BINARY)  # R\n",
    "    _, vid1G = cv2.threshold(frame[:,:,1], thresh_value_G, 255, cv2.THRESH_BINARY)  # G\n",
    "    _, vid1B = cv2.threshold(frame[:,:,0], thresh_value_B, 255, cv2.THRESH_BINARY)  # B\n",
    "    vid1 = cv2.merge((vid1B, vid1G, vid1R))\n",
    "\n",
    "   # Umbral por canal\n",
    "    _, vid2R = cv2.threshold(frame[:,:,2], thresh_value_R, 255, cv2.THRESH_BINARY)  # R \n",
    "    _, vid2G = cv2.threshold(frame[:,:,1], thresh_value_G, 255, cv2.THRESH_BINARY)  # G \n",
    "    _, vid2B = cv2.threshold(frame[:,:,0], thresh_value_B, 255, cv2.THRESH_BINARY)  # B \n",
    "\n",
    "# Crear canales de salida según mapeo\n",
    "    outR = vid2B                       \n",
    "    outG = vid2R & vid2G               \n",
    "    outB = vid2R                     \n",
    "\n",
    "    vid_colored = cv2.merge((outB, outG, outR))\n",
    "\n",
    "# Combinar canales en imagen final\n",
    "    vid2 = cv2.merge((outB, outR, outG))\n",
    "\n",
    "    _, vid3R = cv2.threshold(frame[:,:,2], thresh_value_R, 255, cv2.THRESH_BINARY)  # R\n",
    "    _, vid3G = cv2.threshold(frame[:,:,1], thresh_value_G, 255, cv2.THRESH_BINARY)  # G\n",
    "    _, vid3B = cv2.threshold(frame[:,:,0], thresh_value_B, 255, cv2.THRESH_BINARY)  # B\n",
    "    vid3 = cv2.merge((vid3B, vid3R, vid3G))\n",
    "\n",
    "\n",
    "    collage = np.hstack((vid1, vid2, vid3))\n",
    "    cv2.imshow('RGB', cv2.resize(collage, (int(w_frame*1.5), int(h_frame/2)), cv2.INTER_NEAREST))\n",
    "\n",
    "    if cv2.waitKey(20) & 0xFF == 27:\n",
    "        break\n",
    "\n",
    "vid.release()\n",
    "cv2.destroyAllWindows()"
   ]
  }
 ],
 "metadata": {
  "kernelspec": {
   "display_name": "VC_P1",
   "language": "python",
   "name": "python3"
  },
  "language_info": {
   "codemirror_mode": {
    "name": "ipython",
    "version": 3
   },
   "file_extension": ".py",
   "mimetype": "text/x-python",
   "name": "python",
   "nbconvert_exporter": "python",
   "pygments_lexer": "ipython3",
   "version": "3.11.5"
  }
 },
 "nbformat": 4,
 "nbformat_minor": 5
}
